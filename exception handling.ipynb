{
 "cells": [
  {
   "cell_type": "code",
   "execution_count": 5,
   "metadata": {},
   "outputs": [
    {
     "name": "stdout",
     "output_type": "stream",
     "text": [
      "division by zero\n"
     ]
    }
   ],
   "source": [
    "# Exception Handling\n",
    "try:\n",
    "    2/0\n",
    "except ZeroDivisionError as e:\n",
    "    print(e)"
   ]
  },
  {
   "cell_type": "code",
   "execution_count": 14,
   "metadata": {},
   "outputs": [
    {
     "name": "stdout",
     "output_type": "stream",
     "text": [
      "0\n",
      "division by zero\n"
     ]
    }
   ],
   "source": [
    "try:\n",
    "    a = int(input())\n",
    "    print(100/a)\n",
    "except ValueError as e:\n",
    "    print(e)\n",
    "except ZeroDivisionError as e:\n",
    "    print(e)"
   ]
  },
  {
   "cell_type": "code",
   "execution_count": 20,
   "metadata": {},
   "outputs": [
    {
     "name": "stdout",
     "output_type": "stream",
     "text": [
      "0\n",
      "division by zero\n",
      "do not divided by 0 or input integer number\n"
     ]
    }
   ],
   "source": [
    "try:\n",
    "    a = int(input())\n",
    "    print(100/a)\n",
    "except Exception as e:\n",
    "    print(e)\n",
    "finally:\n",
    "    print(\"do not divided by 0 or input integer number\")"
   ]
  },
  {
   "cell_type": "code",
   "execution_count": 21,
   "metadata": {},
   "outputs": [],
   "source": [
    "def getnumber():\n",
    "    while True:\n",
    "        try:\n",
    "            a = int(input())\n",
    "            print(100/a)\n",
    "            break\n",
    "        except Exception as e:\n",
    "            print(e)\n",
    "            getnumber()\n",
    "            break\n"
   ]
  },
  {
   "cell_type": "code",
   "execution_count": 22,
   "metadata": {},
   "outputs": [
    {
     "name": "stdout",
     "output_type": "stream",
     "text": [
      "asd\n",
      "invalid literal for int() with base 10: 'asd'\n",
      "0\n",
      "division by zero\n",
      "asdf\n",
      "invalid literal for int() with base 10: 'asdf'\n",
      "asfd\n",
      "invalid literal for int() with base 10: 'asfd'\n",
      "sadf\n",
      "invalid literal for int() with base 10: 'sadf'\n",
      "sdf\n",
      "invalid literal for int() with base 10: 'sdf'\n",
      "dsg\n",
      "invalid literal for int() with base 10: 'dsg'\n",
      "sdf\n",
      "invalid literal for int() with base 10: 'sdf'\n",
      "0\n",
      "division by zero\n",
      "0\n",
      "division by zero\n",
      "0\n",
      "division by zero\n",
      "10\n",
      "10.0\n"
     ]
    }
   ],
   "source": [
    "getnumber()"
   ]
  },
  {
   "cell_type": "code",
   "execution_count": 33,
   "metadata": {},
   "outputs": [],
   "source": [
    "# custom exception\n",
    "class numberishort(Exception):\n",
    "    \n",
    "    def __init__(self, message=\"number is short, please enter bigger number then 10\"):\n",
    "        \n",
    "        self.message = message\n",
    "        super().__init__(self.message)"
   ]
  },
  {
   "cell_type": "code",
   "execution_count": 34,
   "metadata": {},
   "outputs": [],
   "source": [
    "def getnumber():\n",
    "    while True:\n",
    "        try:\n",
    "            a = int(input())\n",
    "            if a < 10:\n",
    "                raise numberishort\n",
    "            print(100/a)\n",
    "            break\n",
    "        except numberishort as e:\n",
    "            print(e)\n",
    "            getnumber()\n",
    "            break"
   ]
  },
  {
   "cell_type": "code",
   "execution_count": 35,
   "metadata": {},
   "outputs": [
    {
     "name": "stdout",
     "output_type": "stream",
     "text": [
      "5\n",
      "number is short, please enter bigger number then 10\n",
      "6\n",
      "number is short, please enter bigger number then 10\n",
      "10\n",
      "10.0\n"
     ]
    }
   ],
   "source": [
    "getnumber()"
   ]
  },
  {
   "cell_type": "code",
   "execution_count": 42,
   "metadata": {},
   "outputs": [],
   "source": [
    "class test:\n",
    "    \n",
    "    name=''\n",
    "    age=0\n",
    "    \n",
    "    def testmethod(self):\n",
    "        name = \"my name\"\n",
    "        return name\n",
    "        \n",
    "        \n",
    "        \n",
    "        \n",
    "        \n",
    "        \n",
    "        \n",
    "        "
   ]
  },
  {
   "cell_type": "code",
   "execution_count": 43,
   "metadata": {},
   "outputs": [],
   "source": [
    "t = test()"
   ]
  },
  {
   "cell_type": "code",
   "execution_count": 44,
   "metadata": {},
   "outputs": [
    {
     "data": {
      "text/plain": [
       "'my name'"
      ]
     },
     "execution_count": 44,
     "metadata": {},
     "output_type": "execute_result"
    }
   ],
   "source": [
    "t.testmethod()"
   ]
  },
  {
   "cell_type": "code",
   "execution_count": 46,
   "metadata": {},
   "outputs": [
    {
     "name": "stdout",
     "output_type": "stream",
     "text": [
      "10\n",
      "10.0\n",
      "5.0\n"
     ]
    }
   ],
   "source": [
    "try:\n",
    "    a = int(input())\n",
    "    print(100/a)\n",
    "except Exception as e:\n",
    "    print(e)\n",
    "else:\n",
    "    print(100/20)"
   ]
  },
  {
   "cell_type": "code",
   "execution_count": 47,
   "metadata": {},
   "outputs": [],
   "source": [
    "# file handling -> read and write files"
   ]
  },
  {
   "cell_type": "code",
   "execution_count": 48,
   "metadata": {},
   "outputs": [],
   "source": [
    "# open, read or write, close file"
   ]
  },
  {
   "cell_type": "code",
   "execution_count": 52,
   "metadata": {},
   "outputs": [
    {
     "name": "stdout",
     "output_type": "stream",
     "text": [
      "[Errno 2] No such file or directory: 'test2.txt'\n"
     ]
    }
   ],
   "source": [
    "try:\n",
    "    f = open('test2.txt', 'r')\n",
    "except FileNotFoundError as e:\n",
    "    print(e)"
   ]
  },
  {
   "cell_type": "code",
   "execution_count": 54,
   "metadata": {},
   "outputs": [],
   "source": [
    "with open('test.txt', 'w', encoding='utf-8') as f:\n",
    "    f.write(\"Welcome to python and data science\\n\")\n",
    "    f.write(\"this is a test file\\n\")\n",
    "    f.write(\"with txt extention\")"
   ]
  },
  {
   "cell_type": "code",
   "execution_count": 57,
   "metadata": {},
   "outputs": [
    {
     "name": "stdout",
     "output_type": "stream",
     "text": [
      "Welcome to python and data science\n",
      "this is a test file\n",
      "with txt extention\n",
      "\n"
     ]
    }
   ],
   "source": [
    "try:\n",
    "    f = open('test.txt', 'r')\n",
    "    print(f.read())\n",
    "except FileNotFoundError as e:\n",
    "    print(e)"
   ]
  },
  {
   "cell_type": "code",
   "execution_count": 61,
   "metadata": {},
   "outputs": [
    {
     "name": "stdout",
     "output_type": "stream",
     "text": [
      "Welcome to python and data science\n",
      "this is a test file\n",
      "with txt extention"
     ]
    }
   ],
   "source": [
    "try:\n",
    "    with open('test1.txt', 'w', encoding='utf-8') as f:\n",
    "        f.write(\"Welcome to python and data science\\n\")\n",
    "        f.write(\"this is a test file\\n\")\n",
    "        f.write(\"with txt extention\")\n",
    "    \n",
    "    f = open('test1.txt', 'r')\n",
    "    for i in f:\n",
    "        print(i, end=\"\")\n",
    "    f.close()\n",
    "except Exception as e:\n",
    "    print(e)"
   ]
  },
  {
   "cell_type": "code",
   "execution_count": null,
   "metadata": {},
   "outputs": [],
   "source": [
    "# shift+tab (parameter show)\n",
    "# tab -> suggest"
   ]
  }
 ],
 "metadata": {
  "kernelspec": {
   "display_name": "Python 3",
   "language": "python",
   "name": "python3"
  },
  "language_info": {
   "codemirror_mode": {
    "name": "ipython",
    "version": 3
   },
   "file_extension": ".py",
   "mimetype": "text/x-python",
   "name": "python",
   "nbconvert_exporter": "python",
   "pygments_lexer": "ipython3",
   "version": "3.8.3"
  }
 },
 "nbformat": 4,
 "nbformat_minor": 4
}
