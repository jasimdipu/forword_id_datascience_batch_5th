{
 "cells": [
  {
   "cell_type": "code",
   "execution_count": 1,
   "metadata": {},
   "outputs": [],
   "source": [
    "# oop principles -> abstraction, encapsulation, inheritance, polypormphism"
   ]
  },
  {
   "cell_type": "code",
   "execution_count": 2,
   "metadata": {},
   "outputs": [],
   "source": [
    "# abstraction\n",
    "from abc import ABC"
   ]
  },
  {
   "cell_type": "code",
   "execution_count": 3,
   "metadata": {},
   "outputs": [],
   "source": [
    "# parent class/ super class\n",
    "class student(ABC):\n",
    "    \n",
    "    def getStuName(self):\n",
    "        pass\n",
    "    \n",
    "    def setStuName(self, stuname):\n",
    "        pass\n",
    "    \n",
    "    def getStuId(self):\n",
    "        pass\n",
    "    \n",
    "    def setStuId(self, stuid):\n",
    "        pass"
   ]
  },
  {
   "cell_type": "code",
   "execution_count": 24,
   "metadata": {},
   "outputs": [],
   "source": [
    "# inheritance\n",
    "# child class / sub class\n",
    "class studentinfo(student):\n",
    "    \n",
    "    # encapsulation\n",
    "    # private, protected, public\n",
    "    # private attr\n",
    "    __stuid=''\n",
    "    # protected attr\n",
    "    _stuname=''\n",
    "    \n",
    "    # public attr\n",
    "    dept = ''\n",
    "    \n",
    "    def __init__(self, stuid, stuname, dept):\n",
    "        self.stuid = stuid\n",
    "        self.stuname = stuname\n",
    "        self.dept=dept\n",
    "        \n",
    "    def getStuName(self):\n",
    "        return self._stuname\n",
    "    \n",
    "    def setStuName(self, stuname):\n",
    "        self._stuname=stuname\n",
    "        \n",
    "    def getStuId(self):\n",
    "        return self.__stuid\n",
    "    \n",
    "    def setStuId(self, stuid):\n",
    "        self.__stuid=stuid\n",
    "        \n",
    "    # private function\n",
    "    def __getStuDept(self):\n",
    "        return self.dept\n",
    "    \n",
    "    def setStuDept(self, dept):\n",
    "        self.dept=dept\n",
    "        return self.__getStuDept()\n",
    "        "
   ]
  },
  {
   "cell_type": "code",
   "execution_count": 5,
   "metadata": {},
   "outputs": [],
   "source": [
    "# multilevel inheritance"
   ]
  },
  {
   "cell_type": "code",
   "execution_count": 26,
   "metadata": {},
   "outputs": [],
   "source": [
    "# super class -> student info (inherit)-> child class -> student billing acc\n",
    "class StudentBillingAcc(studentinfo):\n",
    "    \n",
    "    def __init__(self, stuid, stuname, dept, credit, fees, waiver):\n",
    "        #super().__init__(stuid, stuname, dept)\n",
    "        super(StudentBillingAcc, self).__init__(stuid=stuid, stuname=stuname, dept=dept)\n",
    "        self.__credit=credit\n",
    "        self.__fees=fees\n",
    "        self.__waiver=waiver\n",
    "        \n",
    "    def gettotalamount(self):\n",
    "        return self.__credit*self.__fees\n",
    "    \n",
    "    def gettotalamountafterwaiver(self):\n",
    "        return self.gettotalamount() - self.__waiver\n",
    "    \n",
    "    def __str__(self):\n",
    "        return \"ID: {}\\nName: {}\\nDepartment: {}\\nCredit: {}\".format(self.stuid, self.stuname, self.dept, self.__credit)"
   ]
  },
  {
   "cell_type": "code",
   "execution_count": 27,
   "metadata": {},
   "outputs": [],
   "source": [
    "kamal = StudentBillingAcc(\"123123\", \"Kamal Hosain\", \"CSE\", 18, 5000, 20000)"
   ]
  },
  {
   "cell_type": "code",
   "execution_count": 16,
   "metadata": {},
   "outputs": [
    {
     "name": "stdout",
     "output_type": "stream",
     "text": [
      "ID: 123123\n",
      "Name: Kamal Hosain\n",
      "Department: CSE\n",
      "Credit: 18\n"
     ]
    }
   ],
   "source": [
    "print(kamal)"
   ]
  },
  {
   "cell_type": "code",
   "execution_count": 17,
   "metadata": {},
   "outputs": [
    {
     "data": {
      "text/plain": [
       "90000"
      ]
     },
     "execution_count": 17,
     "metadata": {},
     "output_type": "execute_result"
    }
   ],
   "source": [
    "kamal.gettotalamount()"
   ]
  },
  {
   "cell_type": "code",
   "execution_count": 18,
   "metadata": {},
   "outputs": [
    {
     "data": {
      "text/plain": [
       "70000"
      ]
     },
     "execution_count": 18,
     "metadata": {},
     "output_type": "execute_result"
    }
   ],
   "source": [
    "kamal.gettotalamountafterwaiver()"
   ]
  },
  {
   "cell_type": "code",
   "execution_count": 28,
   "metadata": {},
   "outputs": [
    {
     "data": {
      "text/plain": [
       "'BBA'"
      ]
     },
     "execution_count": 28,
     "metadata": {},
     "output_type": "execute_result"
    }
   ],
   "source": [
    "kamal.setStuDept(\"BBA\")"
   ]
  },
  {
   "cell_type": "code",
   "execution_count": null,
   "metadata": {},
   "outputs": [],
   "source": [
    "kamal.stuname"
   ]
  }
 ],
 "metadata": {
  "kernelspec": {
   "display_name": "Python 3",
   "language": "python",
   "name": "python3"
  },
  "language_info": {
   "codemirror_mode": {
    "name": "ipython",
    "version": 3
   },
   "file_extension": ".py",
   "mimetype": "text/x-python",
   "name": "python",
   "nbconvert_exporter": "python",
   "pygments_lexer": "ipython3",
   "version": "3.8.3"
  }
 },
 "nbformat": 4,
 "nbformat_minor": 4
}
