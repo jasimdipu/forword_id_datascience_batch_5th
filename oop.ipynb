{
 "cells": [
  {
   "cell_type": "code",
   "execution_count": 20,
   "metadata": {},
   "outputs": [],
   "source": [
    "class OOP:\n",
    "    # attr / global variable / instance\n",
    "    name=''\n",
    "    email=''\n",
    "    mobile=''\n",
    "    \n",
    "    # constructor\n",
    "    def __init__(self, name, email, mobile):\n",
    "        self.name = name\n",
    "        self.email = email\n",
    "        self.mobile = mobile\n",
    "    \n",
    "    # functions\n",
    "    def getname(self):\n",
    "        def anotherfun(self):\n",
    "            pass\n",
    "        return self.name\n",
    "    \n",
    "    def setname(self, name):\n",
    "        # local variable => name, age, dept\n",
    "        self.name = name\n",
    "        \n",
    "    def __str__(self):\n",
    "        return \"Name : {}\\nEmail : {}\\nMobile : {}\".format(self.name,self.email,self.mobile)"
   ]
  },
  {
   "cell_type": "code",
   "execution_count": 2,
   "metadata": {},
   "outputs": [],
   "source": [
    "# create an object\n",
    "oop = OOP()\n",
    "oop.name = \"Md Atiq\"\n",
    "oop.email = \"admin@gmail.com\"\n",
    "oop.mobile = \"01283933242\""
   ]
  },
  {
   "cell_type": "code",
   "execution_count": 3,
   "metadata": {},
   "outputs": [
    {
     "name": "stdout",
     "output_type": "stream",
     "text": [
      "Md Atiq admin@gmail.com 01283933242\n"
     ]
    }
   ],
   "source": [
    "print(oop.name, oop.email, oop.mobile)"
   ]
  },
  {
   "cell_type": "code",
   "execution_count": 15,
   "metadata": {},
   "outputs": [
    {
     "data": {
      "text/plain": [
       "'Shimul'"
      ]
     },
     "execution_count": 15,
     "metadata": {},
     "output_type": "execute_result"
    }
   ],
   "source": [
    "oop2 = OOP(\"Shimul\", \"23\", \"01873612936\")\n",
    "oop2.name"
   ]
  },
  {
   "cell_type": "code",
   "execution_count": 8,
   "metadata": {},
   "outputs": [
    {
     "data": {
      "text/plain": [
       "'23'"
      ]
     },
     "execution_count": 8,
     "metadata": {},
     "output_type": "execute_result"
    }
   ],
   "source": [
    "oop2.email"
   ]
  },
  {
   "cell_type": "code",
   "execution_count": 9,
   "metadata": {},
   "outputs": [
    {
     "data": {
      "text/plain": [
       "'01873612936'"
      ]
     },
     "execution_count": 9,
     "metadata": {},
     "output_type": "execute_result"
    }
   ],
   "source": [
    "oop2.mobile"
   ]
  },
  {
   "cell_type": "code",
   "execution_count": 22,
   "metadata": {},
   "outputs": [
    {
     "name": "stdout",
     "output_type": "stream",
     "text": [
      "Name : Shimul\n",
      "Email : 23\n",
      " Mobile : 01873612936\n"
     ]
    }
   ],
   "source": [
    "print(oop2)"
   ]
  },
  {
   "cell_type": "code",
   "execution_count": 23,
   "metadata": {},
   "outputs": [],
   "source": [
    "oop2.setname(\"Amir Hamja\")"
   ]
  },
  {
   "cell_type": "code",
   "execution_count": 24,
   "metadata": {},
   "outputs": [
    {
     "data": {
      "text/plain": [
       "'Amir Hamja'"
      ]
     },
     "execution_count": 24,
     "metadata": {},
     "output_type": "execute_result"
    }
   ],
   "source": [
    "oop2.getname()"
   ]
  },
  {
   "cell_type": "code",
   "execution_count": 28,
   "metadata": {},
   "outputs": [
    {
     "data": {
      "text/plain": [
       "2384271796016"
      ]
     },
     "execution_count": 28,
     "metadata": {},
     "output_type": "execute_result"
    }
   ],
   "source": [
    "id(oop)"
   ]
  },
  {
   "cell_type": "code",
   "execution_count": 29,
   "metadata": {},
   "outputs": [
    {
     "data": {
      "text/plain": [
       "2384268122624"
      ]
     },
     "execution_count": 29,
     "metadata": {},
     "output_type": "execute_result"
    }
   ],
   "source": [
    "id(oop2)"
   ]
  },
  {
   "cell_type": "code",
   "execution_count": 25,
   "metadata": {},
   "outputs": [],
   "source": [
    "# oop principles : abstraction, encapsulation, inheritance, polymorphism"
   ]
  },
  {
   "cell_type": "code",
   "execution_count": 27,
   "metadata": {},
   "outputs": [],
   "source": [
    "# create abstract class\n",
    "from abc import ABC\n",
    "\n",
    "class Student(ABC):\n",
    "    \n",
    "    def getname(self):\n",
    "        pass\n",
    "    \n",
    "    def setname(self, name):\n",
    "        pass\n",
    "    \n",
    "    def getdept(self):\n",
    "        pass\n",
    "    \n",
    "    def setdept(self, dept):\n",
    "        pass\n",
    "    \n",
    "    def getcredit(self):\n",
    "        pass\n",
    "    \n",
    "    def setcredit(self, credit):\n",
    "        pass"
   ]
  },
  {
   "cell_type": "code",
   "execution_count": null,
   "metadata": {},
   "outputs": [],
   "source": []
  }
 ],
 "metadata": {
  "kernelspec": {
   "display_name": "Python 3",
   "language": "python",
   "name": "python3"
  },
  "language_info": {
   "codemirror_mode": {
    "name": "ipython",
    "version": 3
   },
   "file_extension": ".py",
   "mimetype": "text/x-python",
   "name": "python",
   "nbconvert_exporter": "python",
   "pygments_lexer": "ipython3",
   "version": "3.8.3"
  }
 },
 "nbformat": 4,
 "nbformat_minor": 4
}
